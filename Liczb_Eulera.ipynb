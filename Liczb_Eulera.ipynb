{
  "nbformat": 4,
  "nbformat_minor": 0,
  "metadata": {
    "colab": {
      "name": "Liczb Eulera.ipynb",
      "provenance": [],
      "collapsed_sections": []
    },
    "kernelspec": {
      "name": "python3",
      "display_name": "Python 3"
    },
    "language_info": {
      "name": "python"
    }
  },
  "cells": [
    {
      "cell_type": "markdown",
      "metadata": {
        "id": "3TIyvUWcW_j0"
      },
      "source": [
        "W matematyce szczególną sympatią darzy się liczby niewymierne:\n",
        "\n",
        "*   $\\pi = 3,14159265358979323846264338327950288419716939937510582...$\n",
        "*   $\\phi = 1,6180339887498948482...$ (złota liczba)\n",
        "*   $e = 2,71828182845904523536028747135266249775724709369995...$ (liczba Eulera, liczba Nepera, podstawa logarytmu naturalnego)\n",
        "\n",
        "Liczba Eulera to nie tylko matematyczna liczba niewymierna zapisana dla ułamków, modeli matematycznych lub statystyk. Jest to również przydatne w przypadku wielu innych aspektów. Kilka z nich to:\n",
        "\n",
        "*   Ekonomia: do obliczania procentu składanego (wzrost procentu w sposób ciągły)\n",
        "*   Rozwiązywanie problemów z obwodami elektrycznymi i napięciami dynamicznymi\n",
        "*   Problemy z rozkładem i wzrostem w biologii: pomiar namnażania żywych komórek.\n",
        "*   Prawo stygnięcia Newtona\n",
        "*   Fale samolotu\n",
        "*   W fizyce i informatyce"
      ]
    },
    {
      "cell_type": "code",
      "metadata": {
        "colab": {
          "base_uri": "https://localhost:8080/"
        },
        "id": "W6YqEmoqW0nA",
        "outputId": "06c7b228-69ee-477a-d281-6e552e461162"
      },
      "source": [
        "import math\n",
        "\n",
        "print(math.e)\n",
        "print(\"Liczb e = {:f}\".format(math.e))\n",
        "print(\"Liczb e = {:.50f}\".format(math.e))"
      ],
      "execution_count": null,
      "outputs": [
        {
          "output_type": "stream",
          "text": [
            "2.718281828459045\n",
            "Liczb e = 2.718282\n",
            "Liczb e = 2.71828182845904509079559829842764884233474731445312\n"
          ],
          "name": "stdout"
        }
      ]
    },
    {
      "cell_type": "markdown",
      "metadata": {
        "id": "dj7XGveodFy3"
      },
      "source": [
        "Liczbę $e$ można definiować na wiele różnych sposobów. Najczęściej spotykana jest definicja wykorzystująca następującą granicę:\n",
        "\n",
        "$\\displaystyle{\\lim_{n\\to \\infty} \\left(1+\\frac{1}{n}\\right)^{n}=e}$\n",
        "\n"
      ]
    },
    {
      "cell_type": "code",
      "metadata": {
        "colab": {
          "base_uri": "https://localhost:8080/",
          "height": 265
        },
        "id": "U73IbW_ld0l-",
        "outputId": "85f53213-9adf-4ced-e23e-0ac0733676e1"
      },
      "source": [
        "import matplotlib.pyplot as plt\n",
        "\n",
        "x = []\n",
        "y = []\n",
        "n = 100\n",
        "for i in range(1,n+1):\n",
        "  x.append(i)\n",
        "  y.append(math.pow(1 + 1/i, i))\n",
        "\n",
        "plt.plot(x,y,'.')\n",
        "plt.show()"
      ],
      "execution_count": null,
      "outputs": [
        {
          "output_type": "display_data",
          "data": {
            "image/png": "[encoded data removed]",
            "text/plain": [
              "<Figure size 432x288 with 1 Axes>"
            ]
          },
          "metadata": {
            "tags": [],
            "needs_background": "light"
          }
        }
      ]
    },
    {
      "cell_type": "markdown",
      "metadata": {
        "id": "rQ1y-ePEe5tS"
      },
      "source": [
        "Funkcja wykładnicza $f:\\mathbb{R}_{+} \\to \\mathbb{R}$,  $f(x)=e^{x}$"
      ]
    },
    {
      "cell_type": "code",
      "metadata": {
        "colab": {
          "base_uri": "https://localhost:8080/",
          "height": 265
        },
        "id": "M7zykl8BfbPz",
        "outputId": "4aaeb28a-9bbe-4509-c9f9-4ed5a4db97cb"
      },
      "source": [
        "import numpy as np\n",
        "\n",
        "x = np.linspace(-5, 5,1000)\n",
        "y = x\n",
        "\n",
        "plt.plot(x,y)\n",
        "plt.show()"
      ],
      "execution_count": null,
      "outputs": [
        {
          "output_type": "display_data",
          "data": {
            "image/png": "[encoded data removed]",
            "text/plain": [
              "<Figure size 432x288 with 1 Axes>"
            ]
          },
          "metadata": {
            "tags": [],
            "needs_background": "light"
          }
        }
      ]
    }
  ]
}